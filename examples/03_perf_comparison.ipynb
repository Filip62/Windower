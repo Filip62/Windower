{
 "cells": [
  {
   "cell_type": "markdown",
   "metadata": {},
   "source": [
    "# Windower Repo Example 03: Performance Analysis and Comparison\n",
    "\n",
    "This notebook evaluates the performance of both the original Kitsune and the proposed Windower feature extraction method. We use AUC scores, ROC curves, per-packet mitigation metrics as well as overall per-window classification metrics for the Windower's case.\n",
    "\n",
    "This notebook assumes that the per-packet classification results and other auxiliary data produced by `00_dataset.ipynb`, `01_kitsune.ipynb` and `02_windower.ipynb` are already located under the `examples/work` folder. If you want to run the notebook and do not have the necessary files available, please run the mentioned notebooks in the specified numerical order."
   ]
  },
  {
   "cell_type": "code",
   "execution_count": 1,
   "metadata": {},
   "outputs": [],
   "source": [
    "%matplotlib inline\n",
    "\n",
    "import pandas as pd\n",
    "import numpy as np\n",
    "import matplotlib.pyplot as plt\n",
    "import seaborn as sns"
   ]
  },
  {
   "cell_type": "code",
   "execution_count": 2,
   "metadata": {},
   "outputs": [],
   "source": [
    "# We expect a current directory to be /examples in order for these variables to work\n",
    "SRC_DIR  = '../src'\n",
    "WORK_DIR = 'work'"
   ]
  },
  {
   "cell_type": "markdown",
   "metadata": {},
   "source": [
    "## Statistics Plotting and Auxilliary Functions"
   ]
  },
  {
   "cell_type": "markdown",
   "metadata": {},
   "source": [
    "Details about the evaluation will be added soon.\n",
    "\n",
    "```\n",
    "    Run the evaluation with the unseen  data \n",
    "\n",
    " \n",
    "\n",
    "python mitig_simulator.py -c config.yml -a data/test_benign_malicious_attackers_ips.txt -m kitsune/kitsune_caida2008.bin -p data/test.pcap -d test_res.packets -P test_res.preds \n",
    " \n",
    "\n",
    "    Extract RMSEs per packet and per IP addresses and IP labels \n",
    "\n",
    " \n",
    "\n",
    "cut -d ',' -f2 test_res.packets > test.rmse \n",
    "cut -d ',' -f2 test_res.preds > test_ips.rmse \n",
    "\n",
    "cut -d ',' -f3 test_res.preds > test_ips_labels.txt \n",
    " \n",
    "\n",
    "    Create simulated per-packet RMSE plot \n",
    "\n",
    " \n",
    "\n",
    "python kitsune/run-plot.py -o testplot.png test.rmse -L data/test_pkt_labels.txt -t data/mix2008/test_benign_malicious.tstamp \n",
    "\n",
    " \n",
    "\n",
    "    Create ROC curve \n",
    "\n",
    " \n",
    "python kitsune/run-roc.py -o plot-roc.png test.rmse -L data/test_benign_malicious_pkt_labels.txt\n",
    "```"
   ]
  },
  {
   "cell_type": "markdown",
   "metadata": {},
   "source": [
    "## Kitsune Evaluation"
   ]
  },
  {
   "cell_type": "markdown",
   "metadata": {},
   "source": [
    "## Windower Evaluation"
   ]
  },
  {
   "cell_type": "markdown",
   "metadata": {},
   "source": [
    "## Performance Comparison"
   ]
  }
 ],
 "metadata": {
  "kernelspec": {
   "display_name": "windower_venv",
   "language": "python",
   "name": "python3"
  },
  "language_info": {
   "codemirror_mode": {
    "name": "ipython",
    "version": 3
   },
   "file_extension": ".py",
   "mimetype": "text/x-python",
   "name": "python",
   "nbconvert_exporter": "python",
   "pygments_lexer": "ipython3",
   "version": "3.11.6"
  },
  "orig_nbformat": 4
 },
 "nbformat": 4,
 "nbformat_minor": 2
}
