{
 "cells": [
  {
   "cell_type": "markdown",
   "metadata": {},
   "source": [
    "# Windower Repo Example 01: Kitsune Pipeline Run\n",
    "\n",
    "This notebook provides steps to preprocess the dataset for the original Kitsune NIDS, as provided by Mirsky et al. [1], run its evaluation pipeline, and analyze its output and performance.\n",
    "\n",
    "This notebook expects the PCAP dataset variant already prepared inside the `examples/work`. This can be achieved by running the `00_dataset.ipynb` notebook.\n",
    "\n",
    "[1] Mirsky, Y., Doitshman, T., Elovici, Y., & Shabtai, A. Kitsune: An Ensemble of Autoencoders for Online Network Intrusion Detection. In proceedings of NDSS Symposium 2018. Available at: <https://www.ndss-symposium.org/wp-content/uploads/2018/02/ndss2018_03A-3_Mirsky_paper.pdf>."
   ]
  },
  {
   "cell_type": "code",
   "execution_count": 1,
   "metadata": {},
   "outputs": [],
   "source": [
    "import os"
   ]
  },
  {
   "cell_type": "code",
   "execution_count": 2,
   "metadata": {},
   "outputs": [],
   "source": [
    "# We expect a current directory to be /examples in order for these variables to work\n",
    "SRC_DIR  = '../src'\n",
    "WORK_DIR = 'work'"
   ]
  },
  {
   "cell_type": "markdown",
   "metadata": {},
   "source": [
    "## Data Preprocessing\n",
    "\n",
    "The original Kitsune model requires special preprocessing for each packet formed based on the tshark output. This section describes these steps."
   ]
  },
  {
   "cell_type": "code",
   "execution_count": 3,
   "metadata": {},
   "outputs": [],
   "source": [
    "TSHARK_FIELDS = '-e frame.time_epoch -e frame.len -e eth.src -e eth.dst -e ip.src ' \\\n",
    "    '-e ip.dst -e tcp.srcport -e tcp.dstport -e udp.srcport -e tcp.dstport ' \\\n",
    "    '-e udp.srcport -e udp.dstport -e icmp.type -e icmp.code -e arp.opcode ' \\\n",
    "    '-e arp.src.hw_mac -e arp.src.proto_ipv4 -e arp.dst.hw_mac -e arp.dst.proto_ipv4 ' \\\n",
    "    '-e ipv6.src -e ipv6.dst'"
   ]
  },
  {
   "cell_type": "code",
   "execution_count": 4,
   "metadata": {},
   "outputs": [
    {
     "name": "stdout",
     "output_type": "stream",
     "text": [
      "CPU times: user 379 ms, sys: 56.1 ms, total: 435 ms\n",
      "Wall time: 19.7 s\n"
     ]
    }
   ],
   "source": [
    "%%time\n",
    "# Extract Tshark TSV file the train set\n",
    "!tshark -r $WORK_DIR/ctu13_sc4_train.pcap -T fields -E header=y -E occurrence=f $TSHARK_FIELDS > $WORK_DIR/ctu13_sc4_train.tsv"
   ]
  },
  {
   "cell_type": "code",
   "execution_count": 5,
   "metadata": {},
   "outputs": [
    {
     "name": "stdout",
     "output_type": "stream",
     "text": [
      "CPU times: user 1.18 s, sys: 152 ms, total: 1.33 s\n",
      "Wall time: 1min\n"
     ]
    }
   ],
   "source": [
    "%%time\n",
    "# Extract Tshark TSV file for the test set\n",
    "!tshark -r $WORK_DIR/ctu13_sc4_test.pcap -T fields -E header=y -E occurrence=f $TSHARK_FIELDS > $WORK_DIR/ctu13_sc4_test.tsv"
   ]
  },
  {
   "cell_type": "code",
   "execution_count": 6,
   "metadata": {},
   "outputs": [
    {
     "name": "stdout",
     "output_type": "stream",
     "text": [
      "INFO:utils:there are 263132 packets\n",
      "INFO:__main__:running extractor\n",
      "100%|██████████████████████████████████| 263131/263131 [09:06<00:00, 481.61it/s]\n",
      "INFO:__main__:extractor finished\n",
      "CPU times: user 13.1 s, sys: 2.21 s, total: 15.3 s\n",
      "Wall time: 9min 7s\n"
     ]
    }
   ],
   "source": [
    "%%time\n",
    "# Perform per-packet feature to prepare input for Kitsune\n",
    "!python $SRC_DIR/kitsune/run-extraction-h5.py -o $WORK_DIR/ctu13_sc4_train.h5 $WORK_DIR/ctu13_sc4_train.tsv"
   ]
  },
  {
   "cell_type": "code",
   "execution_count": 7,
   "metadata": {},
   "outputs": [
    {
     "name": "stdout",
     "output_type": "stream",
     "text": [
      "INFO:utils:there are 929102 packets\n",
      "INFO:__main__:running extractor\n",
      "100%|██████████████████████████████████| 929101/929101 [27:21<00:00, 565.87it/s]\n",
      "INFO:__main__:extractor finished\n",
      "CPU times: user 37.5 s, sys: 15.3 s, total: 52.9 s\n",
      "Wall time: 27min 23s\n"
     ]
    }
   ],
   "source": [
    "%%time\n",
    "# Perform per-packet feature to prepare input for Kitsune\n",
    "!python $SRC_DIR/kitsune/run-extraction-h5.py -o $WORK_DIR/ctu13_sc4_test.h5 $WORK_DIR/ctu13_sc4_test.tsv"
   ]
  },
  {
   "cell_type": "markdown",
   "metadata": {},
   "source": [
    "## Model Training"
   ]
  },
  {
   "cell_type": "code",
   "execution_count": 8,
   "metadata": {},
   "outputs": [
    {
     "data": {
      "text/plain": [
       "263130"
      ]
     },
     "execution_count": 8,
     "metadata": {},
     "output_type": "execute_result"
    }
   ],
   "source": [
    "# Determine the amount of samples within the training set\n",
    "train_len = sum(1 for _ in open(os.path.join(WORK_DIR, 'ctu13_sc4_train.tsv'))) - 2  \n",
    "train_len"
   ]
  },
  {
   "cell_type": "code",
   "execution_count": 9,
   "metadata": {},
   "outputs": [],
   "source": [
    "# Use 10% of samples for Kitsune scheme traning and the rest for training to AEs themselves\n",
    "fmgrace = int(train_len * 0.1)\n",
    "adgrace = train_len - fmgrace"
   ]
  },
  {
   "cell_type": "code",
   "execution_count": 10,
   "metadata": {},
   "outputs": [
    {
     "name": "stdout",
     "output_type": "stream",
     "text": [
      "INFO:KitNET.KitNET:Feature-Mapper: train-mode, Anomaly-Detector: off-mode\n",
      "INFO:__main__:running learning\n",
      "  9%|███                              | 24486/263131 [00:01<00:13, 18294.28it/s]INFO:KitNET.KitNET:The Feature-Mapper found a mapping: 100 features to 17 autoencoders.\n",
      "INFO:KitNET.KitNET:Feature-Mapper: execute-mode, Anomaly-Detector: train-mode\n",
      "100%|█████████████████████████████████▉| 263129/263131 [06:26<00:00, 589.55it/s]INFO:KitNET.KitNET:Feature-Mapper: execute-mode, Anomaly-Detector: execute-mode\n",
      "100%|██████████████████████████████████| 263131/263131 [06:26<00:00, 680.71it/s]\n",
      "INFO:__main__:learning finished\n",
      "INFO:__main__:model written\n",
      "CPU times: user 9.28 s, sys: 1.57 s, total: 10.9 s\n",
      "Wall time: 6min 28s\n"
     ]
    }
   ],
   "source": [
    "%%time\n",
    "# Perform Kitsune training\n",
    "!python $SRC_DIR/kitsune/run-learning.py -o $WORK_DIR/model_kitsune.bin --fmgrace $fmgrace --adgrace $adgrace $WORK_DIR/ctu13_sc4_train.h5"
   ]
  },
  {
   "cell_type": "markdown",
   "metadata": {},
   "source": [
    "## Evaluation Running"
   ]
  },
  {
   "cell_type": "code",
   "execution_count": 11,
   "metadata": {},
   "outputs": [
    {
     "name": "stdout",
     "output_type": "stream",
     "text": [
      "INFO:__main__:running detector\n",
      "100%|█████████████████████████████████| 929101/929101 [13:01<00:00, 1189.00it/s]\n",
      "INFO:__main__:detection finished\n",
      "CPU times: user 18.5 s, sys: 3.06 s, total: 21.5 s\n",
      "Wall time: 13min 2s\n"
     ]
    }
   ],
   "source": [
    "%%time\n",
    "# Perform Kitsune evaluation\n",
    "!python $SRC_DIR/kitsune/run-testing.py --model $WORK_DIR/model_kitsune.bin --output $WORK_DIR/predictions_kitsune.pkts $WORK_DIR/ctu13_sc4_test.h5"
   ]
  },
  {
   "cell_type": "markdown",
   "metadata": {},
   "source": [
    "At this point, we have a trained model `model_kitsune.bin` and a file with per-packet RMSE predictions `predictions_kitsune.pkts`. This file will be used for performance analysis and and comparison with the Windower in the `03_perf_comparison.ipynb` notebook."
   ]
  }
 ],
 "metadata": {
  "kernelspec": {
   "display_name": "windower_venv",
   "language": "python",
   "name": "python3"
  },
  "language_info": {
   "codemirror_mode": {
    "name": "ipython",
    "version": 3
   },
   "file_extension": ".py",
   "mimetype": "text/x-python",
   "name": "python",
   "nbconvert_exporter": "python",
   "pygments_lexer": "ipython3",
   "version": "3.11.6"
  },
  "orig_nbformat": 4
 },
 "nbformat": 4,
 "nbformat_minor": 2
}
