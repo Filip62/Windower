{
 "cells": [
  {
   "cell_type": "markdown",
   "metadata": {},
   "source": [
    "# Windower Repo Example 01: Kitsune Pipeline Run\n",
    "\n",
    "This notebook provides steps to preprocess the dataset for the original Kitsune NIDS, as provided by Mirsky et al. [1], run its evaluation pipeline, and analyze its output and performance.\n",
    "\n",
    "This notebook expects the PCAP dataset variant already prepared inside the `examples/work`. This can be achieved by running the `00_dataset.ipynb` notebook.\n",
    "\n",
    "[1] Mirsky, Y., Doitshman, T., Elovici, Y., & Shabtai, A. Kitsune: An Ensemble of Autoencoders for Online Network Intrusion Detection. In proceedings of NDSS Symposium 2018. Available at: <https://www.ndss-symposium.org/wp-content/uploads/2018/02/ndss2018_03A-3_Mirsky_paper.pdf>."
   ]
  },
  {
   "cell_type": "code",
   "execution_count": 1,
   "metadata": {},
   "outputs": [],
   "source": [
    "import os"
   ]
  },
  {
   "cell_type": "code",
   "execution_count": 2,
   "metadata": {},
   "outputs": [],
   "source": [
    "# We expect a current directory to be /examples in order for these variables to work\n",
    "SRC_DIR  = '../src'\n",
    "WORK_DIR = 'work'"
   ]
  },
  {
   "cell_type": "markdown",
   "metadata": {},
   "source": [
    "## Data Preprocessing\n",
    "\n",
    "The original Kitsune model requires special preprocessing for each packet formed based on the tshark output. This section describes these steps."
   ]
  },
  {
   "cell_type": "code",
   "execution_count": 3,
   "metadata": {},
   "outputs": [],
   "source": [
    "TSHARK_FIELDS = '-e frame.time_epoch -e frame.len -e eth.src -e eth.dst -e ip.src ' \\\n",
    "    '-e ip.dst -e tcp.srcport -e tcp.dstport -e udp.srcport -e tcp.dstport ' \\\n",
    "    '-e udp.srcport -e udp.dstport -e icmp.type -e icmp.code -e arp.opcode ' \\\n",
    "    '-e arp.src.hw_mac -e arp.src.proto_ipv4 -e arp.dst.hw_mac -e arp.dst.proto_ipv4 ' \\\n",
    "    '-e ipv6.src -e ipv6.dst'"
   ]
  },
  {
   "cell_type": "code",
   "execution_count": 4,
   "metadata": {},
   "outputs": [
    {
     "name": "stdout",
     "output_type": "stream",
     "text": [
      "CPU times: user 350 ms, sys: 57.3 ms, total: 407 ms\n",
      "Wall time: 19.1 s\n"
     ]
    }
   ],
   "source": [
    "%%time\n",
    "# Extract Tshark TSV file the train set\n",
    "!tshark -r $WORK_DIR/ctu13_sc4_train.pcap -T fields -E header=y -E occurrence=f $TSHARK_FIELDS > $WORK_DIR/ctu13_sc4_train.tsv"
   ]
  },
  {
   "cell_type": "code",
   "execution_count": 5,
   "metadata": {},
   "outputs": [
    {
     "name": "stdout",
     "output_type": "stream",
     "text": [
      "CPU times: user 1.22 s, sys: 184 ms, total: 1.4 s\n",
      "Wall time: 1min 4s\n"
     ]
    }
   ],
   "source": [
    "%%time\n",
    "# Extract Tshark TSV file for the test set\n",
    "!tshark -r $WORK_DIR/ctu13_sc4_test.pcap -T fields -E header=y -E occurrence=f $TSHARK_FIELDS > $WORK_DIR/ctu13_sc4_test.tsv"
   ]
  },
  {
   "cell_type": "code",
   "execution_count": 6,
   "metadata": {},
   "outputs": [
    {
     "name": "stdout",
     "output_type": "stream",
     "text": [
      "INFO:utils:there are 263132 packets\n",
      "INFO:__main__:running extractor\n",
      "100%|██████████████████████████████████| 263131/263131 [09:10<00:00, 477.66it/s]\n",
      "INFO:__main__:extractor finished\n",
      "CPU times: user 13.3 s, sys: 2.32 s, total: 15.6 s\n",
      "Wall time: 9min 12s\n"
     ]
    }
   ],
   "source": [
    "%%time\n",
    "# Perform per-packet feature to prepare input for Kitsune\n",
    "!python $SRC_DIR/kitsune/run-extraction-h5.py -o $WORK_DIR/ctu13_sc4_train.h5 $WORK_DIR/ctu13_sc4_train.tsv"
   ]
  },
  {
   "cell_type": "code",
   "execution_count": 7,
   "metadata": {},
   "outputs": [
    {
     "name": "stdout",
     "output_type": "stream",
     "text": [
      "INFO:utils:there are 929102 packets\n",
      "INFO:__main__:running extractor\n",
      "100%|██████████████████████████████████| 929101/929101 [30:19<00:00, 510.59it/s]\n",
      "INFO:__main__:extractor finished\n",
      "CPU times: user 45.2 s, sys: 18.4 s, total: 1min 3s\n",
      "Wall time: 30min 21s\n"
     ]
    }
   ],
   "source": [
    "%%time\n",
    "# Perform per-packet feature to prepare input for Kitsune\n",
    "!python $SRC_DIR/kitsune/run-extraction-h5.py -o $WORK_DIR/ctu13_sc4_test.h5 $WORK_DIR/ctu13_sc4_test.tsv"
   ]
  },
  {
   "cell_type": "markdown",
   "metadata": {},
   "source": [
    "## Model Training"
   ]
  },
  {
   "cell_type": "code",
   "execution_count": 8,
   "metadata": {},
   "outputs": [
    {
     "data": {
      "text/plain": [
       "263130"
      ]
     },
     "execution_count": 8,
     "metadata": {},
     "output_type": "execute_result"
    }
   ],
   "source": [
    "# Determine the amount of samples within the training set\n",
    "train_len = sum(1 for _ in open(os.path.join(WORK_DIR, 'ctu13_sc4_train.tsv'))) - 2  \n",
    "train_len"
   ]
  },
  {
   "cell_type": "code",
   "execution_count": 9,
   "metadata": {},
   "outputs": [],
   "source": [
    "# Use 10% of samples for Kitsune scheme traning and the rest for training to AEs themselves\n",
    "fmgrace = int(train_len * 0.1)\n",
    "adgrace = train_len - fmgrace"
   ]
  },
  {
   "cell_type": "code",
   "execution_count": 10,
   "metadata": {},
   "outputs": [
    {
     "name": "stdout",
     "output_type": "stream",
     "text": [
      "INFO:KitNET.KitNET:Feature-Mapper: train-mode, Anomaly-Detector: off-mode\n",
      "INFO:__main__:running learning\n",
      " 10%|███▏                             | 25614/263131 [00:01<00:12, 18606.64it/s]INFO:KitNET.KitNET:The Feature-Mapper found a mapping: 100 features to 17 autoencoders.\n",
      "INFO:KitNET.KitNET:Feature-Mapper: execute-mode, Anomaly-Detector: train-mode\n",
      "100%|█████████████████████████████████▉| 263096/263131 [05:47<00:00, 701.44it/s]INFO:KitNET.KitNET:Feature-Mapper: execute-mode, Anomaly-Detector: execute-mode\n",
      "100%|██████████████████████████████████| 263131/263131 [05:47<00:00, 756.80it/s]\n",
      "INFO:__main__:learning finished\n",
      "INFO:__main__:model written\n",
      "CPU times: user 7.18 s, sys: 1.21 s, total: 8.39 s\n",
      "Wall time: 5min 49s\n"
     ]
    }
   ],
   "source": [
    "%%time\n",
    "# Perform Kitsune training\n",
    "!python $SRC_DIR/kitsune/run-learning.py -o $WORK_DIR/model_kitsune.bin --fmgrace $fmgrace --adgrace $adgrace $WORK_DIR/ctu13_sc4_train.h5"
   ]
  },
  {
   "cell_type": "markdown",
   "metadata": {},
   "source": [
    "## Evaluation Running"
   ]
  },
  {
   "cell_type": "code",
   "execution_count": 11,
   "metadata": {},
   "outputs": [
    {
     "name": "stdout",
     "output_type": "stream",
     "text": [
      "INFO:__main__:running detector\n",
      "100%|█████████████████████████████████| 929101/929101 [12:56<00:00, 1196.42it/s]\n",
      "INFO:__main__:detection finished\n",
      "CPU times: user 18.2 s, sys: 2.96 s, total: 21.1 s\n",
      "Wall time: 12min 57s\n"
     ]
    }
   ],
   "source": [
    "%%time\n",
    "# Perform Kitsune evaluation\n",
    "!python $SRC_DIR/kitsune/run-testing.py --model $WORK_DIR/model_kitsune.bin --output $WORK_DIR/predictions_kitsune_pkts.rmse $WORK_DIR/ctu13_sc4_test.h5"
   ]
  },
  {
   "cell_type": "markdown",
   "metadata": {},
   "source": [
    "At this point, we have a trained model `model_kitsune.bin` and a file with per-packet RMSE predictions `predictions_kitsune.pkts`. This file will be used for performance analysis and and comparison with the Windower in the `03_perf_comparison.ipynb` notebook."
   ]
  }
 ],
 "metadata": {
  "kernelspec": {
   "display_name": "windower_venv",
   "language": "python",
   "name": "python3"
  },
  "language_info": {
   "codemirror_mode": {
    "name": "ipython",
    "version": 3
   },
   "file_extension": ".py",
   "mimetype": "text/x-python",
   "name": "python",
   "nbconvert_exporter": "python",
   "pygments_lexer": "ipython3",
   "version": "3.11.6"
  },
  "orig_nbformat": 4
 },
 "nbformat": 4,
 "nbformat_minor": 2
}
