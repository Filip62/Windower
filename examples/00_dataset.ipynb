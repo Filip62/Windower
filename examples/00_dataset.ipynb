{
 "cells": [
  {
   "cell_type": "markdown",
   "metadata": {},
   "source": [
    "# Windower Repo Example 00: PCAP Data Preparation\n",
    "\n",
    "This notebook performs a complete process to reconstruct the CTU-13, scenario #4 filtered PCAP dataset subset used for demonstrating Windower's abilities compared to the original Kitsune version. Details and reasoning of certain design choices when creating a dataset are not elaborated in this notebook. It merely presents the steps required for dataset reconstruction. Refer to the `datasets.md` file for the description of design choices.\n",
    "\n",
    "This file performs PCAP data preparation common for both Kitsune and Windower Pipelines. Specific data preprocessing (e.g., running the Windower itself) can be found within the particular Jupyter notebooks `01_kitsune.ipynb` and `02_windower.ipynb`."
   ]
  },
  {
   "cell_type": "code",
   "execution_count": 1,
   "metadata": {},
   "outputs": [],
   "source": [
    "WORK_DIR = 'work'\n",
    "SRC_DIR  = '../../src'"
   ]
  },
  {
   "cell_type": "code",
   "execution_count": 2,
   "metadata": {},
   "outputs": [],
   "source": [
    "# Create a separate directory and work in it for the rest of examples\n",
    "!mkdir -p $WORK_DIR"
   ]
  },
  {
   "cell_type": "code",
   "execution_count": 3,
   "metadata": {},
   "outputs": [],
   "source": [
    "%cd -q $WORK_DIR"
   ]
  },
  {
   "cell_type": "markdown",
   "metadata": {},
   "source": [
    "## PCAP Dataset Preparation Process"
   ]
  },
  {
   "cell_type": "code",
   "execution_count": 4,
   "metadata": {},
   "outputs": [
    {
     "name": "stdout",
     "output_type": "stream",
     "text": [
      "--2023-11-10 13:09:36--  https://mcfp.felk.cvut.cz/publicDatasets/CTU-Malware-Capture-Botnet-45/capture20110815.truncated.pcap.bz2\n",
      "Resolving mcfp.felk.cvut.cz (mcfp.felk.cvut.cz)... 147.32.82.194\n",
      "Connecting to mcfp.felk.cvut.cz (mcfp.felk.cvut.cz)|147.32.82.194|:443... connected.\n",
      "HTTP request sent, awaiting response... 200 OK\n",
      "Length: 980043232 (935M) [application/x-bzip2]\n",
      "Saving to: 'capture20110815.truncated.pcap.bz2'\n",
      "\n",
      "capture20110815.tru 100%[===================>] 934.64M  4.24MB/s    in 2m 50s  \n",
      "\n",
      "2023-11-10 13:12:27 (5.48 MB/s) - 'capture20110815.truncated.pcap.bz2' saved [980043232/980043232]\n",
      "\n"
     ]
    }
   ],
   "source": [
    "# Download the dataset\n",
    "!LANG=C wget https://mcfp.felk.cvut.cz/publicDatasets/CTU-Malware-Capture-Botnet-45/capture20110815.truncated.pcap.bz2"
   ]
  },
  {
   "cell_type": "code",
   "execution_count": 5,
   "metadata": {},
   "outputs": [],
   "source": [
    "# Unzip the dataset\n",
    "!bunzip2 capture20110815.truncated.pcap.bz2"
   ]
  },
  {
   "cell_type": "code",
   "execution_count": 6,
   "metadata": {},
   "outputs": [
    {
     "name": "stdout",
     "output_type": "stream",
     "text": [
      "reading from file capture20110815.truncated.pcap, link-type EN10MB (Ethernet), snapshot length 262144\n"
     ]
    }
   ],
   "source": [
    "# Obtain source traffic of IP addresses specified by the documentation\n",
    "filter = 'src host 147.32.84.165 or src host 147.32.84.170 or src host 147.32.84.134 or ' \\\n",
    "    'src host 147.32.84.164 or src host 147.32.87.36 or src host 147.32.80.9 or src host 147.32.87.11'\n",
    "\n",
    "\n",
    "!tcpdump -r capture20110815.truncated.pcap -w ctu13_sc4_filtered.pcap $filter"
   ]
  },
  {
   "cell_type": "code",
   "execution_count": 7,
   "metadata": {},
   "outputs": [
    {
     "name": "stdout",
     "output_type": "stream",
     "text": [
      "reading from file ctu13_sc4_filtered.pcap, link-type EN10MB (Ethernet), snapshot length 262144\n",
      "reading from file ctu13_sc4_filtered.pcap, link-type EN10MB (Ethernet), snapshot length 262144\n"
     ]
    }
   ],
   "source": [
    "# Extract attacking and bening traffic\n",
    "!tcpdump -r ctu13_sc4_filtered.pcap -w ctu13_sc4_malicious.pcap 'ip and src host 147.32.84.165 and dst host 147.32.96.69'\n",
    "!tcpdump -r ctu13_sc4_filtered.pcap -w ctu13_sc4_benign.pcap 'ip and (not src host 147.32.84.165 or not dst host 147.32.96.69)'"
   ]
  },
  {
   "cell_type": "code",
   "execution_count": 8,
   "metadata": {},
   "outputs": [],
   "source": [
    "# Remap malicious traffic to allow per-packet labelling\n",
    "!tcprewrite -i ctu13_sc4_malicious.pcap -o ctu13_sc4_malicious_remap.pcap --srcipmap=147.32.84.165/32:10.0.0.165/32"
   ]
  },
  {
   "cell_type": "code",
   "execution_count": 9,
   "metadata": {},
   "outputs": [],
   "source": [
    "# Merge the dataset back into one piece\n",
    "!mergecap -w ctu13_sc4_remap.pcap ctu13_sc4_benign.pcap ctu13_sc4_malicious_remap.pcap"
   ]
  },
  {
   "cell_type": "code",
   "execution_count": 10,
   "metadata": {},
   "outputs": [],
   "source": [
    "# Create train and test sets\n",
    "!editcap -B '2011-08-15 12:30:00' ctu13_sc4_remap.pcap ctu13_sc4_train.pcap\n",
    "!editcap -A '2011-08-15 12:30:00' ctu13_sc4_remap.pcap ctu13_sc4_test.pcap"
   ]
  },
  {
   "cell_type": "code",
   "execution_count": 11,
   "metadata": {},
   "outputs": [],
   "source": [
    "# Create file consisting of attackers' IP addresses\n",
    "!echo '10.0.0.165' > ctu13_sc4_test_attack_ips.txt"
   ]
  }
 ],
 "metadata": {
  "kernelspec": {
   "display_name": "windower_venv",
   "language": "python",
   "name": "python3"
  },
  "language_info": {
   "codemirror_mode": {
    "name": "ipython",
    "version": 3
   },
   "file_extension": ".py",
   "mimetype": "text/x-python",
   "name": "python",
   "nbconvert_exporter": "python",
   "pygments_lexer": "ipython3",
   "version": "3.11.6"
  },
  "orig_nbformat": 4
 },
 "nbformat": 4,
 "nbformat_minor": 2
}
