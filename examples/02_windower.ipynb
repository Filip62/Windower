{
 "cells": [
  {
   "cell_type": "markdown",
   "metadata": {},
   "source": [
    "# Windower Repo Example 02: Windower Pipeline Run\n",
    "\n",
    "This notebook provides steps to preprocess the dataset (run Windower), use the preprocessed data to train the KitNet model, and run the mitigation simulation script. Analysis of the mitigation results and comparison to the original Kitsune are shown in the notebook `03_perf_comparison.ipynb`.\n",
    "\n",
    "This notebook expects a PCAP dataset variant already prepared inside the `examples/work`. This can be achieved by running the `00_dataset.ipynb` notebook."
   ]
  },
  {
   "cell_type": "code",
   "execution_count": 1,
   "metadata": {},
   "outputs": [],
   "source": [
    "import os"
   ]
  },
  {
   "cell_type": "code",
   "execution_count": 2,
   "metadata": {},
   "outputs": [],
   "source": [
    "# We expect a current directory to be /examples in order for these variables to work\n",
    "SRC_DIR  = '../src'\n",
    "WORK_DIR = 'work'"
   ]
  },
  {
   "cell_type": "markdown",
   "metadata": {},
   "source": [
    "## Data Preprocessing\n",
    "\n",
    "This section provides commands to perform feature extraction via Windower and prepare the data to feed the KitNet model."
   ]
  },
  {
   "cell_type": "code",
   "execution_count": 3,
   "metadata": {},
   "outputs": [],
   "source": [
    "# Label each packet as benign or malicious based on the provided attack_ips.txt file\n",
    "!python $SRC_DIR/utils/pcap/dataset_label.py $WORK_DIR/ctu13_sc4_test.pcap $WORK_DIR/ctu13_sc4_test_attack_ips.txt $WORK_DIR/ctu13_sc4_test_pktlabels.txt"
   ]
  },
  {
   "cell_type": "code",
   "execution_count": 4,
   "metadata": {},
   "outputs": [
    {
     "name": "stdout",
     "output_type": "stream",
     "text": [
      "logger:\n",
      "  # Length of the window in seconds\n",
      "  window_length: 1\n",
      "\n",
      "  # (Optional, default: 6) Minimum number of collected windows to process the given IP\n",
      "  history_min: 6\n",
      "\n",
      "  # (Optional, default: 0) Maximum number of elements that are stored in memory for\n",
      "  # history. 0 refers to \"infinity\", allowing to store records to up 5GB of computer memory\n",
      "  history_size: 0\n",
      "\n",
      "  # (Optional, default: 120) Maximum number of seconds for which historical logs are valid\n",
      "  history_timeout: 120\n",
      "\n",
      "  # (Optional, default: 20) Minimum number of packets in the window to log it\n",
      "  packets_min: 10\n",
      "\n",
      "  # (Optional, default: 40) Number of samples for entropy estimation per IP per window\n",
      "  samples_size: 40\n"
     ]
    }
   ],
   "source": [
    "# See the Windower configuration\n",
    "!cat $SRC_DIR/windower/config.yml | tail -n +13 | head -n -7"
   ]
  },
  {
   "cell_type": "code",
   "execution_count": 5,
   "metadata": {},
   "outputs": [
    {
     "name": "stdout",
     "output_type": "stream",
     "text": [
      "263131pkt [02:47, 1569.71pkt/s]\n",
      "CPU times: user 3.47 s, sys: 572 ms, total: 4.04 s\n",
      "Wall time: 2min 48s\n"
     ]
    }
   ],
   "source": [
    "%%time\n",
    "# Prepare CTU-13 Scenario 4 train set\n",
    "!python $SRC_DIR/windower/dataset_creator.py -c $SRC_DIR/windower/config.yml -n $WORK_DIR/ctu13_sc4_train.pcap $WORK_DIR/ctu13_sc4_train_extracols.csv"
   ]
  },
  {
   "cell_type": "code",
   "execution_count": 6,
   "metadata": {},
   "outputs": [
    {
     "name": "stdout",
     "output_type": "stream",
     "text": [
      "CPU times: user 13.3 ms, sys: 11.6 ms, total: 24.9 ms\n",
      "Wall time: 861 ms\n"
     ]
    }
   ],
   "source": [
    "%%time\n",
    "# Make the dataset ready for Kitsune - drop columns that would cause artifacts and the file header\n",
    "!python $SRC_DIR/utils/strip_cols.py $WORK_DIR/ctu13_sc4_train_extracols.csv $WORK_DIR/ctu13_sc4_train.csv keepfrag"
   ]
  },
  {
   "cell_type": "markdown",
   "metadata": {},
   "source": [
    "## Model Training"
   ]
  },
  {
   "cell_type": "code",
   "execution_count": 7,
   "metadata": {},
   "outputs": [
    {
     "data": {
      "text/plain": [
       "1001"
      ]
     },
     "execution_count": 7,
     "metadata": {},
     "output_type": "execute_result"
    }
   ],
   "source": [
    "# Determine the amount of samples within the training set\n",
    "train_len = sum(1 for _ in open(os.path.join(WORK_DIR, 'ctu13_sc4_train.csv'))) - 1\n",
    "train_len"
   ]
  },
  {
   "cell_type": "code",
   "execution_count": 8,
   "metadata": {},
   "outputs": [],
   "source": [
    "# Use 10% of samples for Kitsune scheme traning and the rest for training to AEs themselves\n",
    "fmgrace = int(train_len * 0.1)\n",
    "adgrace = train_len - fmgrace"
   ]
  },
  {
   "cell_type": "code",
   "execution_count": 9,
   "metadata": {},
   "outputs": [
    {
     "name": "stdout",
     "output_type": "stream",
     "text": [
      "INFO:utils:there are 1002 packets\n",
      "INFO:KitNET.KitNET:Feature-Mapper: train-mode, Anomaly-Detector: off-mode\n",
      "INFO:__main__:running learning\n",
      "  0%|                                                  | 0/1002 [00:00<?, ?it/s]INFO:KitNET.KitNET:The Feature-Mapper found a mapping: 31 features to 11 autoencoders.\n",
      "INFO:KitNET.KitNET:Feature-Mapper: execute-mode, Anomaly-Detector: train-mode\n",
      " 96%|█████████████████████████████████████▎ | 959/1002 [00:00<00:00, 964.45it/s]INFO:KitNET.KitNET:Feature-Mapper: execute-mode, Anomaly-Detector: execute-mode\n",
      "100%|█████████████████████████████████████| 1002/1002 [00:00<00:00, 1061.12it/s]\n",
      "INFO:__main__:learning finished\n",
      "INFO:__main__:model written\n",
      "CPU times: user 44.4 ms, sys: 10.1 ms, total: 54.5 ms\n",
      "Wall time: 2.27 s\n"
     ]
    }
   ],
   "source": [
    "%%time\n",
    "# Perform Kitsune training\n",
    "!python $SRC_DIR/kitsune/run-learning.py --csv -o $WORK_DIR/model_windower_kitnet.bin --fmgrace $fmgrace --adgrace $adgrace $WORK_DIR/ctu13_sc4_train.csv"
   ]
  },
  {
   "cell_type": "markdown",
   "metadata": {},
   "source": [
    "## Evaluation Running"
   ]
  },
  {
   "cell_type": "code",
   "execution_count": 10,
   "metadata": {},
   "outputs": [
    {
     "name": "stdout",
     "output_type": "stream",
     "text": [
      "mitig_simulator:\n",
      "  # Threshold for marking a sample as anomalous\n",
      "  threshold: 10\n",
      "\n",
      "  # (Optional, default: 1000000) Size of the denylist (blacklist) in entries\n",
      "  denylist_size: 1000000\n"
     ]
    }
   ],
   "source": [
    "# Show the configuration of the mitigation simulation\n",
    "!cat $SRC_DIR/windower/config.yml | tail -n 6"
   ]
  },
  {
   "cell_type": "markdown",
   "metadata": {},
   "source": [
    "As it might be seen, we have chosen the threshold of `10` to decide whether the reconstruction error of Kitnet (RMSE) is would be considered anomalous or not."
   ]
  },
  {
   "cell_type": "code",
   "execution_count": 11,
   "metadata": {},
   "outputs": [
    {
     "name": "stdout",
     "output_type": "stream",
     "text": [
      "929101pkt [11:05, 1395.94pkt/s]\n",
      "\n",
      "------   Per-Source IP Communication Statistics   -----\n",
      "\n",
      "               detected_after  detections_pos  detections_neg  pkts_allowed  pkts_denied   label\n",
      "147.32.84.164               0               0              11          9619            0  Benign\n",
      "147.32.80.9                 0               0            1557        328362            0  Benign\n",
      "147.32.87.36                0               0              97        103263            0  Benign\n",
      "147.32.84.170               0               0             417        163055            0  Benign\n",
      "147.32.84.165               0               0              20          3633            0  Benign\n",
      "147.32.87.11                0               0               0          1022            0  Benign\n",
      "147.32.84.134               0               0             259        129288            0  Benign\n",
      "10.0.0.165                166             189             125           275       190584  Attack\n",
      "\n",
      "------   Model's Classification Statistics   -----\n",
      "\n",
      "Total number of classifications: 2675\n",
      "Attackers detection  : 1 / 1\n",
      "Legitimate detection : 6 / 6\n",
      "Attackers all        : 1 / 1\n",
      "Legitimate all       : 6 / 7\n",
      "\n",
      "Confusion matrix:\n",
      "          Pred Pos  Pred Neg\n",
      "True Pos       189       125\n",
      "True Neg         0      2361\n",
      "\n",
      "Accuracy  : 0.9532710280373832\n",
      "Precision : 1.0\n",
      "Recall    : 0.6019108280254777\n",
      "F-Score   : 0.7514910536779325\n",
      "\n",
      "-----   Per-packet Mitigation Statistics   -----\n",
      "\n",
      "Real attackers packet denied ratio    : 0.999 (190584 / 190859)\n",
      "Real legitimate packets allowed ratio : 1.000 (738242 / 738242)\n",
      "CPU times: user 13.9 s, sys: 2.29 s, total: 16.2 s\n",
      "Wall time: 11min 7s\n"
     ]
    }
   ],
   "source": [
    "%%time\n",
    "# Perform evaluation of the KitNet model trained with Windower statistics\n",
    "!python $SRC_DIR/windower/mitig_simulator.py -c $SRC_DIR/windower/config.yml -a $WORK_DIR/ctu13_sc4_test_attack_ips.txt -m $WORK_DIR/model_windower_kitnet.bin -p $WORK_DIR/ctu13_sc4_test.pcap -d $WORK_DIR/predictions_windower.pkts -P $WORK_DIR/predictions_windower.wnds"
   ]
  },
  {
   "cell_type": "markdown",
   "metadata": {},
   "source": [
    "After this step, we used the trained model `model_windower_kitnet.bin` to simulate the DDoS mitigation process. The script provided a brief textual description of the mitigation process. Firstly, each IP address in the dataset is written to the output, and a series of statistics is provided. These statistics include:\n",
    "- `detected_after` - Number of seconds the mechanism required to detect a malicious client\n",
    "- `detections_pos` - Number of anomalous behavior detections for a given client\n",
    "- `detections_neg` - Number of non-anomalous (supposed benign) behavior detections for a given client\n",
    "- `pkts_allowed`   - Number of packets the mechanism let \"pass-through\" and reach its final destination\n",
    "- `pkts_denied`    - Number of packets the mechanism marked as potentially malicious and decided to drop\n",
    "- `label`          - True label of a client\n",
    "\n",
    "In our simulation, we drop all packets after a particular client is marked anomalous. Despite dropping all its traffic, we still compute statistical windows and perform classifications, marking their results into `detections_pos` and `detections_neg` statistics. In practice, these values could be used to re-evaluate the status of maliciousness after a specific time has passed. In this example, we want to emphasize that even when an attacker acts non-anomalously in certain time windows (125 such classifications), we still block the majority of malicious traffic (0.999) as it was marked as anomalous several times before (189 events).\n",
    "\n",
    "As the mitigation simulation shows, 1 of 1 attacker was detected successfully, whereas the mechanism blocked no legitimate clients. Due to more classifications and the attacker's apparent non-anomalous behavior patterns at certain times, the achieved recall is only `0.6` for window classification. Nevertheless, we block all malicious traffic after the first anomalous classification -- 99.9% of malicious traffic, while allowing 100% benign traffic."
   ]
  },
  {
   "cell_type": "markdown",
   "metadata": {},
   "source": [
    "In addition to the textual description, we obtained per-packet decisions `predictions_windower.pkts` file, which contains 0 or 1 values for each packet to determine whether the packet should be dropped or not, and `predictions_windower.wnds` containing RMSE scores of per-source IP windows produced by the Windower processed through Kitnet. These files will be used in the `03_perf_comparison.ipynb` notebook."
   ]
  }
 ],
 "metadata": {
  "kernelspec": {
   "display_name": "windower_venv",
   "language": "python",
   "name": "python3"
  },
  "language_info": {
   "codemirror_mode": {
    "name": "ipython",
    "version": 3
   },
   "file_extension": ".py",
   "mimetype": "text/x-python",
   "name": "python",
   "nbconvert_exporter": "python",
   "pygments_lexer": "ipython3",
   "version": "3.11.6"
  },
  "orig_nbformat": 4
 },
 "nbformat": 4,
 "nbformat_minor": 2
}
